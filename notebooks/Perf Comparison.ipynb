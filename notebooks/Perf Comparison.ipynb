{
 "cells": [
  {
   "cell_type": "code",
   "execution_count": 1,
   "metadata": {},
   "outputs": [
    {
     "name": "stderr",
     "output_type": "stream",
     "text": [
      "d:\\windows_utils\\miniconda3\\envs\\cimdev\\lib\\site-packages\\fortranmagic.py:147: UserWarning: get_ipython_cache_dir has moved to the IPython.paths module since IPython 4.0.\n",
      "  self._lib_dir = os.path.join(get_ipython_cache_dir(), 'fortran')\n"
     ]
    },
    {
     "data": {
      "application/javascript": [
       "$.getScript(\"https://raw.github.com/marijnh/CodeMirror/master/mode/fortran/fortran.js\", function () {\n",
       "IPython.config.cell_magic_highlight['magic_fortran'] = {'reg':[/^%%fortran/]};});\n"
      ]
     },
     "metadata": {},
     "output_type": "display_data"
    }
   ],
   "source": [
    "%load_ext fortranmagic\n",
    "%load_ext cython"
   ]
  },
  {
   "cell_type": "code",
   "execution_count": 2,
   "metadata": {
    "collapsed": true
   },
   "outputs": [],
   "source": [
    "%%fortran\n",
    "\n",
    "! dam discharge calculation test\n",
    "subroutine ft_test(vol)\n",
    "    real*8, intent(out) :: vol\n",
    "    \n",
    "    vol = 1.4920d-3 * (306505.0d0 - 306500.0d0)**1.5280d0\n",
    "end subroutine"
   ]
  },
  {
   "cell_type": "code",
   "execution_count": 3,
   "metadata": {},
   "outputs": [
    {
     "data": {
      "text/plain": [
       "0.017449982259160068"
      ]
     },
     "execution_count": 3,
     "metadata": {},
     "output_type": "execute_result"
    }
   ],
   "source": [
    "ft_test()"
   ]
  },
  {
   "cell_type": "code",
   "execution_count": 4,
   "metadata": {
    "collapsed": true
   },
   "outputs": [],
   "source": [
    "def py_test():\n",
    "    discharge = 0.001492 * (306505.0 - 306500.0)**1.5280\n",
    "    return discharge"
   ]
  },
  {
   "cell_type": "code",
   "execution_count": 5,
   "metadata": {},
   "outputs": [
    {
     "data": {
      "text/plain": [
       "0.017449982259160068"
      ]
     },
     "execution_count": 5,
     "metadata": {},
     "output_type": "execute_result"
    }
   ],
   "source": [
    "py_test()"
   ]
  },
  {
   "cell_type": "code",
   "execution_count": 6,
   "metadata": {},
   "outputs": [
    {
     "name": "stdout",
     "output_type": "stream",
     "text": [
      "The slowest run took 24.03 times longer than the fastest. This could mean that an intermediate result is being cached.\n",
      "10000000 loops, best of 3: 75.9 ns per loop\n"
     ]
    }
   ],
   "source": [
    "%timeit ft_test()"
   ]
  },
  {
   "cell_type": "code",
   "execution_count": 7,
   "metadata": {},
   "outputs": [
    {
     "name": "stdout",
     "output_type": "stream",
     "text": [
      "The slowest run took 11.49 times longer than the fastest. This could mean that an intermediate result is being cached.\n",
      "10000000 loops, best of 3: 95.2 ns per loop\n"
     ]
    }
   ],
   "source": [
    "%timeit py_test()"
   ]
  },
  {
   "cell_type": "code",
   "execution_count": 8,
   "metadata": {
    "collapsed": true
   },
   "outputs": [],
   "source": [
    "%%cython\n",
    "cpdef double cy_test():\n",
    "    cdef double discharge = 0.001492 * (306505.0 - 306500.0)**1.5280\n",
    "    return discharge"
   ]
  },
  {
   "cell_type": "code",
   "execution_count": 9,
   "metadata": {},
   "outputs": [
    {
     "name": "stdout",
     "output_type": "stream",
     "text": [
      "The slowest run took 28.60 times longer than the fastest. This could mean that an intermediate result is being cached.\n",
      "10000000 loops, best of 3: 38.2 ns per loop\n"
     ]
    }
   ],
   "source": [
    "%timeit cy_test()"
   ]
  },
  {
   "cell_type": "code",
   "execution_count": 10,
   "metadata": {
    "collapsed": true
   },
   "outputs": [],
   "source": [
    "# import numpy as np\n",
    "# from libc.math import exp\n",
    "from math import exp\n",
    "def py_calc_interim_cmd(cmd, param_d, rainfall):\n",
    "    \"\"\"Calculate interim CMD (M_{f}) in its linear form.\n",
    "\n",
    "    :param cmd: float, current Catchment Moisture Deficit (M_{k})\n",
    "    :param param_d: float, model parameter factor `d`\n",
    "    :param rainfall: float, rainfall for current time step in mm\n",
    "\n",
    "    :returns: float, interim CMD (M_{f})\n",
    "    \"\"\"\n",
    "    if cmd < param_d:\n",
    "        Mf = cmd * exp(-rainfall / param_d)\n",
    "    elif cmd < (param_d + rainfall):\n",
    "        Mf = param_d * exp((-rainfall + cmd - param_d) / param_d)\n",
    "    else:\n",
    "        Mf = cmd - rainfall\n",
    "    # End if\n",
    "\n",
    "    return Mf\n",
    "# End calc_interim_cmd()"
   ]
  },
  {
   "cell_type": "code",
   "execution_count": 11,
   "metadata": {},
   "outputs": [
    {
     "name": "stdout",
     "output_type": "stream",
     "text": [
      "The slowest run took 12.05 times longer than the fastest. This could mean that an intermediate result is being cached.\n",
      "1000000 loops, best of 3: 333 ns per loop\n"
     ]
    }
   ],
   "source": [
    "%timeit py_calc_interim_cmd(200.0, 194.0, 16.5)"
   ]
  },
  {
   "cell_type": "code",
   "execution_count": 12,
   "metadata": {},
   "outputs": [
    {
     "name": "stdout",
     "output_type": "stream",
     "text": [
      "Wall time: 0 ns\n"
     ]
    },
    {
     "data": {
      "text/plain": [
       "183.779091697232"
      ]
     },
     "execution_count": 12,
     "metadata": {},
     "output_type": "execute_result"
    }
   ],
   "source": [
    "%time py_calc_interim_cmd(200.0, 194.0, 16.5)"
   ]
  },
  {
   "cell_type": "code",
   "execution_count": 13,
   "metadata": {
    "collapsed": true
   },
   "outputs": [],
   "source": [
    "%%fortran\n",
    "\n",
    "subroutine ft_calc_interim_cmd(cmd, param_d, rainfall, Mf)\n",
    "    real*8 :: cmd, param_d, rainfall\n",
    "    real*8, intent(out) :: Mf\n",
    "\n",
    "    if (cmd.lt.param_d) then\n",
    "        Mf = cmd * exp(-rainfall / param_d)\n",
    "    else if (cmd.lt.(param_d + rainfall)) then\n",
    "        Mf = param_d * exp((-rainfall + cmd - param_d) / param_d)\n",
    "    else\n",
    "        Mf = cmd - rainfall\n",
    "    endif\n",
    "\n",
    "end subroutine"
   ]
  },
  {
   "cell_type": "code",
   "execution_count": 14,
   "metadata": {},
   "outputs": [
    {
     "name": "stdout",
     "output_type": "stream",
     "text": [
      "The slowest run took 71.03 times longer than the fastest. This could mean that an intermediate result is being cached.\n",
      "1000000 loops, best of 3: 216 ns per loop\n"
     ]
    }
   ],
   "source": [
    "%timeit ft_calc_interim_cmd(200.0, 194.0, 16.5)"
   ]
  },
  {
   "cell_type": "code",
   "execution_count": 15,
   "metadata": {},
   "outputs": [
    {
     "name": "stdout",
     "output_type": "stream",
     "text": [
      "Wall time: 0 ns\n"
     ]
    },
    {
     "data": {
      "text/plain": [
       "183.77909169723196"
      ]
     },
     "execution_count": 15,
     "metadata": {},
     "output_type": "execute_result"
    }
   ],
   "source": [
    "%time ft_calc_interim_cmd(200.0, 194.0, 16.5)"
   ]
  },
  {
   "cell_type": "code",
   "execution_count": 16,
   "metadata": {},
   "outputs": [
    {
     "name": "stdout",
     "output_type": "stream",
     "text": [
      "Cannot build msvcr library: \"msvcr90d.dll\" not found\n"
     ]
    }
   ],
   "source": [
    "%%cython\n",
    "\n",
    "from __future__ import division\n",
    "\n",
    "from libc.math cimport exp\n",
    "\n",
    "cpdef double cy_calc_interim_cmd(double cmd, double param_d, double rainfall):\n",
    "    \"\"\"Calculate interim CMD (M_{f}) in its linear form.\n",
    "\n",
    "    :param cmd: float, current Catchment Moisture Deficit (M_{k})\n",
    "    :param param_d: float, model parameter factor `d`\n",
    "    :param rainfall: float, rainfall for current time step in mm\n",
    "\n",
    "    :returns: float, interim CMD (M_{f})\n",
    "    \"\"\"\n",
    "    cdef double Mf\n",
    "    if cmd < param_d:\n",
    "        Mf = cmd * exp(-rainfall / param_d)\n",
    "    elif cmd < (param_d + rainfall):\n",
    "        Mf = param_d * exp((-rainfall + cmd - param_d) / param_d)\n",
    "    else:\n",
    "        Mf = cmd - rainfall\n",
    "    # End if\n",
    "\n",
    "    return Mf\n",
    "# End calc_interim_cmd()"
   ]
  },
  {
   "cell_type": "code",
   "execution_count": 17,
   "metadata": {},
   "outputs": [
    {
     "name": "stdout",
     "output_type": "stream",
     "text": [
      "The slowest run took 15.88 times longer than the fastest. This could mean that an intermediate result is being cached.\n",
      "10000000 loops, best of 3: 161 ns per loop\n"
     ]
    }
   ],
   "source": [
    "%timeit cy_calc_interim_cmd(200.0, 194.0, 16.5)"
   ]
  },
  {
   "cell_type": "code",
   "execution_count": 18,
   "metadata": {},
   "outputs": [
    {
     "name": "stdout",
     "output_type": "stream",
     "text": [
      "Wall time: 0 ns\n"
     ]
    },
    {
     "data": {
      "text/plain": [
       "183.77909169723196"
      ]
     },
     "execution_count": 18,
     "metadata": {},
     "output_type": "execute_result"
    }
   ],
   "source": [
    "%time cy_calc_interim_cmd(200.0, 194.0, 16.5)"
   ]
  },
  {
   "cell_type": "code",
   "execution_count": 19,
   "metadata": {
    "collapsed": true
   },
   "outputs": [],
   "source": [
    "# %load_ext julia.magic"
   ]
  },
  {
   "cell_type": "code",
   "execution_count": 20,
   "metadata": {
    "collapsed": true
   },
   "outputs": [],
   "source": [
    "# %%julia\n",
    "# 1+1\n"
   ]
  },
  {
   "cell_type": "code",
   "execution_count": 24,
   "metadata": {
    "collapsed": true
   },
   "outputs": [],
   "source": [
    "import math\n",
    "import numpy as np"
   ]
  },
  {
   "cell_type": "code",
   "execution_count": 25,
   "metadata": {},
   "outputs": [
    {
     "name": "stdout",
     "output_type": "stream",
     "text": [
      "The slowest run took 68.71 times longer than the fastest. This could mean that an intermediate result is being cached.\n",
      "10000000 loops, best of 3: 42.5 ns per loop\n"
     ]
    }
   ],
   "source": [
    "%timeit math.pi"
   ]
  },
  {
   "cell_type": "code",
   "execution_count": 26,
   "metadata": {},
   "outputs": [
    {
     "name": "stdout",
     "output_type": "stream",
     "text": [
      "10000000 loops, best of 3: 37.8 ns per loop\n"
     ]
    }
   ],
   "source": [
    "%timeit np.pi"
   ]
  },
  {
   "cell_type": "code",
   "execution_count": 30,
   "metadata": {},
   "outputs": [
    {
     "name": "stdout",
     "output_type": "stream",
     "text": [
      "The slowest run took 19.38 times longer than the fastest. This could mean that an intermediate result is being cached.\n",
      "1000000 loops, best of 3: 621 ns per loop\n"
     ]
    }
   ],
   "source": [
    "%timeit np.arctan(2.0 * 150.0)"
   ]
  },
  {
   "cell_type": "code",
   "execution_count": 31,
   "metadata": {},
   "outputs": [
    {
     "name": "stdout",
     "output_type": "stream",
     "text": [
      "The slowest run took 21.50 times longer than the fastest. This could mean that an intermediate result is being cached.\n",
      "10000000 loops, best of 3: 102 ns per loop\n"
     ]
    }
   ],
   "source": [
    "%timeit math.atan(2.0 * 150.0)"
   ]
  },
  {
   "cell_type": "code",
   "execution_count": 35,
   "metadata": {},
   "outputs": [
    {
     "name": "stdout",
     "output_type": "stream",
     "text": [
      "The slowest run took 13.58 times longer than the fastest. This could mean that an intermediate result is being cached.\n",
      "10000000 loops, best of 3: 134 ns per loop\n"
     ]
    }
   ],
   "source": [
    "%timeit math.tan(150)"
   ]
  },
  {
   "cell_type": "code",
   "execution_count": 34,
   "metadata": {},
   "outputs": [
    {
     "name": "stdout",
     "output_type": "stream",
     "text": [
      "The slowest run took 18.34 times longer than the fastest. This could mean that an intermediate result is being cached.\n",
      "1000000 loops, best of 3: 795 ns per loop\n"
     ]
    }
   ],
   "source": [
    "%timeit np.tan(150)"
   ]
  },
  {
   "cell_type": "code",
   "execution_count": 36,
   "metadata": {
    "collapsed": true
   },
   "outputs": [],
   "source": [
    "def ret_tan(x):\n",
    "    return math.tan(x)"
   ]
  },
  {
   "cell_type": "code",
   "execution_count": 42,
   "metadata": {},
   "outputs": [
    {
     "name": "stdout",
     "output_type": "stream",
     "text": [
      "The slowest run took 13.29 times longer than the fastest. This could mean that an intermediate result is being cached.\n",
      "10000000 loops, best of 3: 192 ns per loop\n"
     ]
    }
   ],
   "source": [
    "%timeit ret_tan(150.0)"
   ]
  },
  {
   "cell_type": "code",
   "execution_count": 39,
   "metadata": {
    "collapsed": true
   },
   "outputs": [],
   "source": [
    "%%fortran\n",
    "\n",
    "subroutine ft_tan(x)\n",
    "    real*8, intent(inout) :: x\n",
    "            \n",
    "    x = tan(x)\n",
    "\n",
    "end subroutine"
   ]
  },
  {
   "cell_type": "code",
   "execution_count": 41,
   "metadata": {},
   "outputs": [
    {
     "name": "stdout",
     "output_type": "stream",
     "text": [
      "The slowest run took 18.02 times longer than the fastest. This could mean that an intermediate result is being cached.\n",
      "10000000 loops, best of 3: 142 ns per loop\n"
     ]
    }
   ],
   "source": [
    "%timeit ft_tan(150.0)"
   ]
  },
  {
   "cell_type": "code",
   "execution_count": 44,
   "metadata": {},
   "outputs": [
    {
     "name": "stdout",
     "output_type": "stream",
     "text": [
      "Cannot build msvcr library: \"msvcr90d.dll\" not found\n"
     ]
    }
   ],
   "source": [
    "%%cython\n",
    "from libc.math cimport tan\n",
    "\n",
    "cpdef double cy_tan(double x):\n",
    "    return tan(x)"
   ]
  },
  {
   "cell_type": "code",
   "execution_count": 46,
   "metadata": {},
   "outputs": [
    {
     "name": "stdout",
     "output_type": "stream",
     "text": [
      "The slowest run took 16.77 times longer than the fastest. This could mean that an intermediate result is being cached.\n",
      "10000000 loops, best of 3: 87 ns per loop\n"
     ]
    }
   ],
   "source": [
    "%timeit cy_tan(150.0)"
   ]
  },
  {
   "cell_type": "code",
   "execution_count": 2,
   "metadata": {
    "collapsed": true
   },
   "outputs": [],
   "source": [
    "%%fortran\n",
    "subroutine ft_flow_calc(a, b, prev_quick, prev_slow, u, r, area, loss, pscale, quick, slow, flow, a2, b2, tmp_slow, tmp_flow)\n",
    "    real*8, intent(in) :: a, b, prev_quick, prev_slow, u, r, area, loss, pscale\n",
    "    real*8, intent(out) :: quick, slow, flow\n",
    "    real*8, intent(out) :: a2, b2, tmp_flow, tmp_slow\n",
    "    \n",
    "    a2=0.5d0\n",
    "    if ((prev_quick+u*area-0.5*loss).gt.0) then\n",
    "        quick=1/(1+a)*(prev_quick+u*area-loss/2.0d0)\n",
    "        flow=a*quick\n",
    "\n",
    "    else\n",
    "        if(loss.eq.0.0d0) then\n",
    "            a2=0.0d0\n",
    "        else\n",
    "            a2=(prev_quick+u*area)/loss\n",
    "            if(a2.gt.1) then\n",
    "                a2=1.0d0\n",
    "            endif\n",
    "            if(a2.lt.0) then\n",
    "                a2=0.0d0\n",
    "            endif\n",
    "        endif\n",
    "\n",
    "        quick=prev_quick+u*area-a2*loss\n",
    "        flow=0.0d0\n",
    "    endif\n",
    "    \n",
    "    tmp_flow = flow\n",
    "\n",
    "    b2=1.0d0-a2\n",
    "    tmp_slow = (prev_slow+pscale*r*area-loss*b2)\n",
    "    if ((prev_slow+r*area-b2*loss).gt.0) then\n",
    "        slow=1/(1+b)*(prev_slow+pscale*r*area-loss*b2)\n",
    "        flow=flow+b*slow\n",
    "    else\n",
    "        slow=slow+pscale*r*area-b2*loss\n",
    "    endif\n",
    "\n",
    "end subroutine"
   ]
  },
  {
   "cell_type": "code",
   "execution_count": 3,
   "metadata": {
    "collapsed": true
   },
   "outputs": [],
   "source": [
    "# a, b, prev_quick, prev_slow, u, r, area, loss, pscale\n",
    "a = 54.0\n",
    "b = 0.18\n",
    "prev_quick = 24.0\n",
    "prev_slow = 500.0\n",
    "u = 0.1\n",
    "r = 0.01\n",
    "area = 1900\n",
    "loss = 0.0\n",
    "pscale = 0.0"
   ]
  },
  {
   "cell_type": "code",
   "execution_count": 4,
   "metadata": {
    "collapsed": true
   },
   "outputs": [],
   "source": [
    "def calc_ft_flows(prev_quick, prev_slow, e_rain, recharge, area, a, b, loss=0.0, pscale=0.0):\n",
    "    \"\"\"\n",
    "\n",
    "    :param prev_quick: float, previous quickflow storage\n",
    "    :param prev_slow: float, previous slowflow storage\n",
    "    :param e_rain: float, effective rainfall in mm\n",
    "    :param recharge: float, recharge amount in mm\n",
    "    :param area: float, catchment area in km^2\n",
    "    :param a: float, `a` factor controlling quickflow rate\n",
    "    :param b: float, `b` factor controlling slowflow rate\n",
    "    :param loss: float, losses in mm depth\n",
    "\n",
    "    :returns: tuple[float], quick store, slow store, outflow\n",
    "    \"\"\"\n",
    "    a2 = 0.5\n",
    "    if (prev_quick + e_rain * area - 0.5 * loss) > 0.0:\n",
    "        quick_store = 1.0 / (1.0 + a) * (prev_quick + e_rain * area - loss / 2.0)\n",
    "        outflow = a * quick_store\n",
    "    else:\n",
    "        a2 = 0.0 if loss == 0.0 else max(0.0, min(1.0, prev_quick + e_rain * area / loss))\n",
    "        quick_store = prev_quick + e_rain * area - a2 * loss\n",
    "        outflow = 0.0\n",
    "    # End if\n",
    "    \n",
    "    tmp_flow = outflow\n",
    "\n",
    "    b2 = 1.0 - a2\n",
    "    tmp_slow = (prev_slow+r*area-loss*b2)\n",
    "    slow_store = prev_slow + recharge * area - loss * b2  # b2 * loss\n",
    "    if (prev_slow + recharge * area - b2 * loss) > 0.0:\n",
    "        slow_store = 1.0 / (1.0 + b) * slow_store\n",
    "        outflow = outflow + b * slow_store\n",
    "    # End if\n",
    "\n",
    "    return quick_store, slow_store, outflow, a2, b2, tmp_slow, tmp_flow\n",
    "# End calc_ft_flows()"
   ]
  },
  {
   "cell_type": "code",
   "execution_count": 5,
   "metadata": {},
   "outputs": [
    {
     "data": {
      "text/plain": [
       "(3.8909090909090907,\n",
       " 439.83050847457633,\n",
       " 289.27858243451465,\n",
       " 0.5,\n",
       " 0.5,\n",
       " 519.0,\n",
       " 210.1090909090909)"
      ]
     },
     "execution_count": 5,
     "metadata": {},
     "output_type": "execute_result"
    }
   ],
   "source": [
    "ft_flow_calc(a, b, prev_quick, prev_slow, u, r, area, loss, pscale=1.0)  # , 0.0, 0.0"
   ]
  },
  {
   "cell_type": "code",
   "execution_count": 6,
   "metadata": {},
   "outputs": [
    {
     "data": {
      "text/plain": [
       "(3.8909090909090907,\n",
       " 439.83050847457633,\n",
       " 289.27858243451465,\n",
       " 0.5,\n",
       " 0.5,\n",
       " 519.0,\n",
       " 210.1090909090909)"
      ]
     },
     "execution_count": 6,
     "metadata": {},
     "output_type": "execute_result"
    }
   ],
   "source": [
    "calc_ft_flows(prev_quick, prev_slow, u, r, area, a, b, loss)"
   ]
  },
  {
   "cell_type": "code",
   "execution_count": 7,
   "metadata": {},
   "outputs": [
    {
     "data": {
      "text/plain": [
       "519.0"
      ]
     },
     "execution_count": 7,
     "metadata": {},
     "output_type": "execute_result"
    }
   ],
   "source": [
    "slow_store = prev_slow + r * area - loss * 0.5\n",
    "slow_store"
   ]
  },
  {
   "cell_type": "code",
   "execution_count": 20,
   "metadata": {
    "collapsed": true
   },
   "outputs": [],
   "source": [
    "from math import exp\n",
    "def calc_ET(e, evap, interim_cmd, f, d):\n",
    "    \"\"\"Calculate evapotranspiration\n",
    "\n",
    "    :param e: float, temperature to PET conversion factor (a stress threshold)\n",
    "    :param evap: float, evaporation for given time step.\n",
    "    :param interim_cmd: float, Catchment Moisture Deficit prior to accounting for ET losses (`M_{f}`)\n",
    "    :param f: float, calibrated parameter that acts as a multiplication factor on `d`\n",
    "    :param d: float, flow threshold factor\n",
    "    \"\"\"\n",
    "    et = e * evap\n",
    "    param_g = f * d\n",
    "    print(d)\n",
    "    et = et * min(1.0, exp(2.0 * (1.0 - (interim_cmd / param_g))))\n",
    "\n",
    "    return et\n",
    "# End calc_ET()"
   ]
  },
  {
   "cell_type": "code",
   "execution_count": 21,
   "metadata": {},
   "outputs": [
    {
     "name": "stdout",
     "output_type": "stream",
     "text": [
      "150\n"
     ]
    },
    {
     "data": {
      "text/plain": [
       "0.8120116994196762"
      ]
     },
     "execution_count": 21,
     "metadata": {},
     "output_type": "execute_result"
    }
   ],
   "source": [
    "calc_ET(e=1.0, evap=6.0, interim_cmd=150.0, f=0.5, d=150)"
   ]
  },
  {
   "cell_type": "code",
   "execution_count": 17,
   "metadata": {},
   "outputs": [],
   "source": [
    "%%fortran\n",
    "subroutine ft_calc_cmd(cmd, f, e, evap, et)\n",
    "    real*8, intent(in) :: cmd, f, e, evap\n",
    "    real*8, intent(out) :: et\n",
    "    if (cmd.gt.f) then\n",
    "        et = e*evap*exp( (1-cmd/f)*2)\n",
    "    else\n",
    "        et = e*evap\n",
    "    endif\n",
    "end subroutine"
   ]
  },
  {
   "cell_type": "code",
   "execution_count": 23,
   "metadata": {},
   "outputs": [
    {
     "data": {
      "text/plain": [
       "0.8120116994196762"
      ]
     },
     "execution_count": 23,
     "metadata": {},
     "output_type": "execute_result"
    }
   ],
   "source": [
    "ft_calc_cmd(150.0, 75.0, 1.0, 6.0)"
   ]
  },
  {
   "cell_type": "code",
   "execution_count": null,
   "metadata": {
    "collapsed": true
   },
   "outputs": [],
   "source": []
  }
 ],
 "metadata": {
  "kernelspec": {
   "display_name": "Python [conda env:cimdev]",
   "language": "python",
   "name": "conda-env-cimdev-py"
  },
  "language_info": {
   "codemirror_mode": {
    "name": "ipython",
    "version": 2
   },
   "file_extension": ".py",
   "mimetype": "text/x-python",
   "name": "python",
   "nbconvert_exporter": "python",
   "pygments_lexer": "ipython2",
   "version": "2.7.13"
  }
 },
 "nbformat": 4,
 "nbformat_minor": 2
}
