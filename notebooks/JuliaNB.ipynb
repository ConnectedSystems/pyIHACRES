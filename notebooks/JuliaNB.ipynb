{
 "cells": [
  {
   "cell_type": "code",
   "execution_count": 1,
   "metadata": {},
   "outputs": [
    {
     "name": "stdout",
     "output_type": "stream",
     "text": [
      "3.141592653589793\n"
     ]
    }
   ],
   "source": [
    "using PyCall\n",
    "@pyimport math\n",
    "println(math.pi)"
   ]
  },
  {
   "cell_type": "code",
   "execution_count": 2,
   "metadata": {},
   "outputs": [
    {
     "data": {
      "text/markdown": [
       "Unrecognized magic `%load_ext`.\n",
       "\n",
       "Julia does not use the IPython `%magic` syntax.   To interact with the IJulia kernel, use `IJulia.somefunction(...)`, for example.  Julia macros, string macros, and functions can be used to accomplish most of the other functionalities of IPython magics.\n"
      ],
      "text/plain": [
       "Unrecognized magic `%load_ext`.\n",
       "\n",
       "Julia does not use the IPython `%magic` syntax.   To interact with the IJulia kernel, use `IJulia.somefunction(...)`, for example.  Julia macros, string macros, and functions can be used to accomplish most of the other functionalities of IPython magics.\n"
      ]
     },
     "metadata": {},
     "output_type": "display_data"
    }
   ],
   "source": [
    "%load_ext fortranmagic"
   ]
  },
  {
   "cell_type": "code",
   "execution_count": 3,
   "metadata": {},
   "outputs": [
    {
     "ename": "LoadError",
     "evalue": "\u001b[91mMethodError: no method matching @pyimport()\u001b[0m\nClosest candidates are:\n  @pyimport(\u001b[91m::ANY\u001b[39m, \u001b[91m::Any...\u001b[39m) at C:\\Users\\u5121114\\.julia\\v0.6\\PyCall\\src\\PyCall.jl:463\u001b[39m",
     "output_type": "error",
     "traceback": [
      "\u001b[91mMethodError: no method matching @pyimport()\u001b[0m\nClosest candidates are:\n  @pyimport(\u001b[91m::ANY\u001b[39m, \u001b[91m::Any...\u001b[39m) at C:\\Users\\u5121114\\.julia\\v0.6\\PyCall\\src\\PyCall.jl:463\u001b[39m",
      "",
      "Stacktrace:",
      " [1] \u001b[1minclude_string\u001b[22m\u001b[22m\u001b[1m(\u001b[22m\u001b[22m::String, ::String\u001b[1m)\u001b[22m\u001b[22m at \u001b[1m.\\loading.jl:522\u001b[22m\u001b[22m"
     ]
    }
   ],
   "source": [
    "using PyCall\n",
    "@pyimport \n",
    "def py_calc_interim_cmd(cmd, param_d, rainfall):\n",
    "    \"\"\"Calculate interim CMD (M_{f}) in its linear form.\n",
    "\n",
    "    :param cmd: float, current Catchment Moisture Deficit (M_{k})\n",
    "    :param param_d: float, model parameter factor `d`\n",
    "    :param rainfall: float, rainfall for current time step in mm\n",
    "\n",
    "    :returns: float, interim CMD (M_{f})\n",
    "    \"\"\"\n",
    "    if cmd < param_d:\n",
    "        Mf = cmd * exp(-rainfall / param_d)\n",
    "    elif cmd < (param_d + rainfall):\n",
    "        Mf = param_d * exp((-rainfall + cmd - param_d) / param_d)\n",
    "    else:\n",
    "        Mf = cmd - rainfall\n",
    "    # End if\n",
    "\n",
    "    return Mf\n",
    "# End calc_interim_cmd()"
   ]
  },
  {
   "cell_type": "code",
   "execution_count": 4,
   "metadata": {},
   "outputs": [
    {
     "data": {
      "text/plain": [
       "jl_calc_interim_cmd (generic function with 1 method)"
      ]
     },
     "execution_count": 4,
     "metadata": {},
     "output_type": "execute_result"
    }
   ],
   "source": [
    "function jl_calc_interim_cmd(cmd, param_d, rainfall)\n",
    "    if cmd < param_d\n",
    "        Mf = cmd * exp(-rainfall / param_d)\n",
    "    elseif cmd < (param_d + rainfall)\n",
    "        Mf = param_d * exp((-rainfall + cmd - param_d) / param_d)\n",
    "    else\n",
    "        Mf = cmd - rainfall\n",
    "    end\n",
    "        \n",
    "    return Mf\n",
    "end"
   ]
  },
  {
   "cell_type": "code",
   "execution_count": 8,
   "metadata": {},
   "outputs": [
    {
     "name": "stdout",
     "output_type": "stream",
     "text": [
      "  11.305 ns (0 allocations: 0 bytes)\n"
     ]
    },
    {
     "data": {
      "text/plain": [
       "184.72885233663575"
      ]
     },
     "execution_count": 8,
     "metadata": {},
     "output_type": "execute_result"
    }
   ],
   "source": [
    "using BenchmarkTools, Compat\n",
    "\n",
    "@btime jl_calc_interim_cmd(201.0, 194.0, 16.5)"
   ]
  },
  {
   "cell_type": "code",
   "execution_count": 6,
   "metadata": {},
   "outputs": [
    {
     "data": {
      "text/plain": [
       "jl_opt_calc_interim_cmd (generic function with 1 method)"
      ]
     },
     "execution_count": 6,
     "metadata": {},
     "output_type": "execute_result"
    }
   ],
   "source": [
    "function jl_opt_calc_interim_cmd(cmd::Float64, param_d::Float64, rainfall::Float64)::Float64\n",
    "    local Mf::Float64\n",
    "    if cmd < param_d\n",
    "        Mf = cmd * exp(-rainfall / param_d)\n",
    "    elseif cmd < (param_d + rainfall)\n",
    "        Mf = param_d * exp((-rainfall + cmd - param_d) / param_d)\n",
    "    else\n",
    "        Mf = cmd - rainfall\n",
    "    end\n",
    "        \n",
    "    return Mf\n",
    "end"
   ]
  },
  {
   "cell_type": "code",
   "execution_count": 9,
   "metadata": {},
   "outputs": [
    {
     "name": "stdout",
     "output_type": "stream",
     "text": [
      "  11.669 ns (0 allocations: 0 bytes)\n"
     ]
    },
    {
     "data": {
      "text/plain": [
       "184.72885233663575"
      ]
     },
     "execution_count": 9,
     "metadata": {},
     "output_type": "execute_result"
    }
   ],
   "source": [
    "@btime jl_opt_calc_interim_cmd(201.0, 194.0, 16.5)"
   ]
  },
  {
   "cell_type": "code",
   "execution_count": null,
   "metadata": {
    "collapsed": true
   },
   "outputs": [],
   "source": []
  }
 ],
 "metadata": {
  "kernelspec": {
   "display_name": "Julia 0.6.2",
   "language": "julia",
   "name": "julia-0.6"
  },
  "language_info": {
   "file_extension": ".jl",
   "mimetype": "application/julia",
   "name": "julia",
   "version": "0.6.2"
  }
 },
 "nbformat": 4,
 "nbformat_minor": 2
}
