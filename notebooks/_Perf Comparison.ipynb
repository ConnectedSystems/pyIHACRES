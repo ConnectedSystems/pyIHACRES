{
 "cells": [
  {
   "cell_type": "code",
   "execution_count": 1,
   "metadata": {},
   "outputs": [
    {
     "name": "stderr",
     "output_type": "stream",
     "text": [
      "C:\\userdata\\takuyai\\Miniconda3\\envs\\cimdev\\lib\\site-packages\\fortranmagic.py:147: UserWarning: get_ipython_cache_dir has moved to the IPython.paths module since IPython 4.0.\n",
      "  self._lib_dir = os.path.join(get_ipython_cache_dir(), 'fortran')\n"
     ]
    },
    {
     "data": {
      "application/javascript": [
       "$.getScript(\"https://raw.github.com/marijnh/CodeMirror/master/mode/fortran/fortran.js\", function () {\n",
       "IPython.config.cell_magic_highlight['magic_fortran'] = {'reg':[/^%%fortran/]};});\n"
      ]
     },
     "metadata": {},
     "output_type": "display_data"
    }
   ],
   "source": [
    "%load_ext fortranmagic\n",
    "%load_ext cython"
   ]
  },
  {
   "cell_type": "code",
   "execution_count": 2,
   "metadata": {
    "collapsed": true
   },
   "outputs": [],
   "source": [
    "%%fortran\n",
    "\n",
    "! dam discharge calculation test\n",
    "subroutine ft_test(vol)\n",
    "    real*8, intent(out) :: vol\n",
    "    \n",
    "    vol = 1.4920d-3 * (306505.0d0 - 306500.0d0)**1.5280d0\n",
    "end subroutine"
   ]
  },
  {
   "cell_type": "code",
   "execution_count": 3,
   "metadata": {},
   "outputs": [
    {
     "data": {
      "text/plain": [
       "0.017449982259160068"
      ]
     },
     "execution_count": 3,
     "metadata": {},
     "output_type": "execute_result"
    }
   ],
   "source": [
    "ft_test()"
   ]
  },
  {
   "cell_type": "code",
   "execution_count": 4,
   "metadata": {
    "collapsed": true
   },
   "outputs": [],
   "source": [
    "def py_test():\n",
    "    discharge = 0.001492 * (306505.0 - 306500.0)**1.5280\n",
    "    return discharge"
   ]
  },
  {
   "cell_type": "code",
   "execution_count": 5,
   "metadata": {},
   "outputs": [
    {
     "data": {
      "text/plain": [
       "0.017449982259160068"
      ]
     },
     "execution_count": 5,
     "metadata": {},
     "output_type": "execute_result"
    }
   ],
   "source": [
    "py_test()"
   ]
  },
  {
   "cell_type": "code",
   "execution_count": 6,
   "metadata": {},
   "outputs": [
    {
     "name": "stdout",
     "output_type": "stream",
     "text": [
      "The slowest run took 23.53 times longer than the fastest. This could mean that an intermediate result is being cached.\n",
      "10000000 loops, best of 3: 63.8 ns per loop\n"
     ]
    }
   ],
   "source": [
    "%timeit ft_test()"
   ]
  },
  {
   "cell_type": "code",
   "execution_count": 7,
   "metadata": {},
   "outputs": [
    {
     "name": "stdout",
     "output_type": "stream",
     "text": [
      "The slowest run took 14.26 times longer than the fastest. This could mean that an intermediate result is being cached.\n",
      "10000000 loops, best of 3: 84.3 ns per loop\n"
     ]
    }
   ],
   "source": [
    "%timeit py_test()"
   ]
  },
  {
   "cell_type": "code",
   "execution_count": 8,
   "metadata": {
    "collapsed": true
   },
   "outputs": [],
   "source": [
    "%%cython\n",
    "cpdef double cy_test():\n",
    "    cdef double discharge = 0.001492 * (306505.0 - 306500.0)**1.5280\n",
    "    return discharge"
   ]
  },
  {
   "cell_type": "code",
   "execution_count": 9,
   "metadata": {},
   "outputs": [
    {
     "name": "stdout",
     "output_type": "stream",
     "text": [
      "The slowest run took 13.78 times longer than the fastest. This could mean that an intermediate result is being cached.\n",
      "10000000 loops, best of 3: 87.2 ns per loop\n"
     ]
    }
   ],
   "source": [
    "%timeit cy_test()"
   ]
  },
  {
   "cell_type": "code",
   "execution_count": 10,
   "metadata": {
    "collapsed": true
   },
   "outputs": [],
   "source": [
    "# import numpy as np\n",
    "# from libc.math import exp\n",
    "from math import exp\n",
    "def py_calc_interim_cmd(cmd, param_d, rainfall):\n",
    "    \"\"\"Calculate interim CMD (M_{f}) in its linear form.\n",
    "\n",
    "    :param cmd: float, current Catchment Moisture Deficit (M_{k})\n",
    "    :param param_d: float, model parameter factor `d`\n",
    "    :param rainfall: float, rainfall for current time step in mm\n",
    "\n",
    "    :returns: float, interim CMD (M_{f})\n",
    "    \"\"\"\n",
    "    if cmd < param_d:\n",
    "        Mf = cmd * exp(-rainfall / param_d)\n",
    "    elif cmd < (param_d + rainfall):\n",
    "        Mf = param_d * exp((-rainfall + cmd - param_d) / param_d)\n",
    "    else:\n",
    "        Mf = cmd - rainfall\n",
    "    # End if\n",
    "\n",
    "    return Mf\n",
    "# End calc_interim_cmd()"
   ]
  },
  {
   "cell_type": "code",
   "execution_count": 11,
   "metadata": {},
   "outputs": [
    {
     "name": "stdout",
     "output_type": "stream",
     "text": [
      "The slowest run took 12.69 times longer than the fastest. This could mean that an intermediate result is being cached.\n",
      "1000000 loops, best of 3: 308 ns per loop\n"
     ]
    }
   ],
   "source": [
    "%timeit py_calc_interim_cmd(200.0, 194.0, 16.5)"
   ]
  },
  {
   "cell_type": "code",
   "execution_count": 12,
   "metadata": {},
   "outputs": [
    {
     "name": "stdout",
     "output_type": "stream",
     "text": [
      "Wall time: 0 ns\n"
     ]
    },
    {
     "data": {
      "text/plain": [
       "183.779091697232"
      ]
     },
     "execution_count": 12,
     "metadata": {},
     "output_type": "execute_result"
    }
   ],
   "source": [
    "%time py_calc_interim_cmd(200.0, 194.0, 16.5)"
   ]
  },
  {
   "cell_type": "code",
   "execution_count": 13,
   "metadata": {
    "collapsed": true
   },
   "outputs": [],
   "source": [
    "%%fortran\n",
    "\n",
    "subroutine ft_calc_interim_cmd(cmd, param_d, rainfall, Mf)\n",
    "    real*8 :: cmd, param_d, rainfall\n",
    "    real*8, intent(out) :: Mf\n",
    "\n",
    "    if (cmd.lt.param_d) then\n",
    "        Mf = cmd * exp(-rainfall / param_d)\n",
    "    else if (cmd.lt.(param_d + rainfall)) then\n",
    "        Mf = param_d * exp((-rainfall + cmd - param_d) / param_d)\n",
    "    else\n",
    "        Mf = cmd - rainfall\n",
    "    endif\n",
    "\n",
    "end subroutine"
   ]
  },
  {
   "cell_type": "code",
   "execution_count": 14,
   "metadata": {},
   "outputs": [
    {
     "name": "stdout",
     "output_type": "stream",
     "text": [
      "The slowest run took 12.25 times longer than the fastest. This could mean that an intermediate result is being cached.\n",
      "10000000 loops, best of 3: 147 ns per loop\n"
     ]
    }
   ],
   "source": [
    "%timeit ft_calc_interim_cmd(200.0, 194.0, 16.5)"
   ]
  },
  {
   "cell_type": "code",
   "execution_count": 15,
   "metadata": {},
   "outputs": [
    {
     "name": "stdout",
     "output_type": "stream",
     "text": [
      "Wall time: 0 ns\n"
     ]
    },
    {
     "data": {
      "text/plain": [
       "183.779091697232"
      ]
     },
     "execution_count": 15,
     "metadata": {},
     "output_type": "execute_result"
    }
   ],
   "source": [
    "%time ft_calc_interim_cmd(200.0, 194.0, 16.5)"
   ]
  },
  {
   "cell_type": "code",
   "execution_count": 16,
   "metadata": {},
   "outputs": [],
   "source": [
    "%%cython\n",
    "\n",
    "from __future__ import division\n",
    "\n",
    "from libc.math cimport exp\n",
    "\n",
    "cpdef double cy_calc_interim_cmd(double cmd, double param_d, double rainfall):\n",
    "    \"\"\"Calculate interim CMD (M_{f}) in its linear form.\n",
    "\n",
    "    :param cmd: float, current Catchment Moisture Deficit (M_{k})\n",
    "    :param param_d: float, model parameter factor `d`\n",
    "    :param rainfall: float, rainfall for current time step in mm\n",
    "\n",
    "    :returns: float, interim CMD (M_{f})\n",
    "    \"\"\"\n",
    "    cdef double Mf\n",
    "    if cmd < param_d:\n",
    "        Mf = cmd * exp(-rainfall / param_d)\n",
    "    elif cmd < (param_d + rainfall):\n",
    "        Mf = param_d * exp((-rainfall + cmd - param_d) / param_d)\n",
    "    else:\n",
    "        Mf = cmd - rainfall\n",
    "    # End if\n",
    "\n",
    "    return Mf\n",
    "# End calc_interim_cmd()"
   ]
  },
  {
   "cell_type": "code",
   "execution_count": 17,
   "metadata": {},
   "outputs": [
    {
     "name": "stdout",
     "output_type": "stream",
     "text": [
      "The slowest run took 14.00 times longer than the fastest. This could mean that an intermediate result is being cached.\n",
      "10000000 loops, best of 3: 85.8 ns per loop\n"
     ]
    }
   ],
   "source": [
    "%timeit cy_calc_interim_cmd(200.0, 194.0, 16.5)"
   ]
  },
  {
   "cell_type": "code",
   "execution_count": 18,
   "metadata": {},
   "outputs": [
    {
     "name": "stdout",
     "output_type": "stream",
     "text": [
      "Wall time: 0 ns\n"
     ]
    },
    {
     "data": {
      "text/plain": [
       "183.779091697232"
      ]
     },
     "execution_count": 18,
     "metadata": {},
     "output_type": "execute_result"
    }
   ],
   "source": [
    "%time cy_calc_interim_cmd(200.0, 194.0, 16.5)"
   ]
  },
  {
   "cell_type": "code",
   "execution_count": 19,
   "metadata": {
    "collapsed": true
   },
   "outputs": [],
   "source": [
    "# %load_ext julia.magic"
   ]
  },
  {
   "cell_type": "code",
   "execution_count": 20,
   "metadata": {
    "collapsed": true
   },
   "outputs": [],
   "source": [
    "# %%julia\n",
    "# 1+1\n"
   ]
  },
  {
   "cell_type": "code",
   "execution_count": 21,
   "metadata": {
    "collapsed": true
   },
   "outputs": [],
   "source": [
    "import math\n",
    "import numpy as np"
   ]
  },
  {
   "cell_type": "code",
   "execution_count": 22,
   "metadata": {},
   "outputs": [
    {
     "name": "stdout",
     "output_type": "stream",
     "text": [
      "The slowest run took 30.96 times longer than the fastest. This could mean that an intermediate result is being cached.\n",
      "10000000 loops, best of 3: 38.8 ns per loop\n"
     ]
    }
   ],
   "source": [
    "%timeit math.pi"
   ]
  },
  {
   "cell_type": "code",
   "execution_count": 23,
   "metadata": {},
   "outputs": [
    {
     "name": "stdout",
     "output_type": "stream",
     "text": [
      "10000000 loops, best of 3: 34.9 ns per loop\n"
     ]
    }
   ],
   "source": [
    "%timeit np.pi"
   ]
  },
  {
   "cell_type": "code",
   "execution_count": 24,
   "metadata": {},
   "outputs": [
    {
     "name": "stdout",
     "output_type": "stream",
     "text": [
      "The slowest run took 36.51 times longer than the fastest. This could mean that an intermediate result is being cached.\n",
      "1000000 loops, best of 3: 584 ns per loop\n"
     ]
    }
   ],
   "source": [
    "%timeit np.arctan(2.0 * 150.0)"
   ]
  },
  {
   "cell_type": "code",
   "execution_count": 25,
   "metadata": {},
   "outputs": [
    {
     "name": "stdout",
     "output_type": "stream",
     "text": [
      "The slowest run took 24.58 times longer than the fastest. This could mean that an intermediate result is being cached.\n",
      "10000000 loops, best of 3: 97.8 ns per loop\n"
     ]
    }
   ],
   "source": [
    "%timeit math.atan(2.0 * 150.0)"
   ]
  },
  {
   "cell_type": "code",
   "execution_count": 26,
   "metadata": {},
   "outputs": [
    {
     "name": "stdout",
     "output_type": "stream",
     "text": [
      "The slowest run took 74.83 times longer than the fastest. This could mean that an intermediate result is being cached.\n",
      "10000000 loops, best of 3: 124 ns per loop\n"
     ]
    }
   ],
   "source": [
    "%timeit math.tan(150)"
   ]
  },
  {
   "cell_type": "code",
   "execution_count": 27,
   "metadata": {},
   "outputs": [
    {
     "name": "stdout",
     "output_type": "stream",
     "text": [
      "The slowest run took 23.06 times longer than the fastest. This could mean that an intermediate result is being cached.\n",
      "1000000 loops, best of 3: 743 ns per loop\n"
     ]
    }
   ],
   "source": [
    "%timeit np.tan(150)"
   ]
  },
  {
   "cell_type": "code",
   "execution_count": 28,
   "metadata": {
    "collapsed": true
   },
   "outputs": [],
   "source": [
    "def ret_tan(x):\n",
    "    return math.tan(x)"
   ]
  },
  {
   "cell_type": "code",
   "execution_count": 29,
   "metadata": {},
   "outputs": [
    {
     "name": "stdout",
     "output_type": "stream",
     "text": [
      "The slowest run took 16.90 times longer than the fastest. This could mean that an intermediate result is being cached.\n",
      "10000000 loops, best of 3: 178 ns per loop\n"
     ]
    }
   ],
   "source": [
    "%timeit ret_tan(150.0)"
   ]
  },
  {
   "cell_type": "code",
   "execution_count": 30,
   "metadata": {
    "collapsed": true
   },
   "outputs": [],
   "source": [
    "%%fortran\n",
    "\n",
    "subroutine ft_tan(x)\n",
    "    real*8, intent(inout) :: x\n",
    "            \n",
    "    x = tan(x)\n",
    "\n",
    "end subroutine"
   ]
  },
  {
   "cell_type": "code",
   "execution_count": 31,
   "metadata": {},
   "outputs": [
    {
     "name": "stdout",
     "output_type": "stream",
     "text": [
      "The slowest run took 19.78 times longer than the fastest. This could mean that an intermediate result is being cached.\n",
      "10000000 loops, best of 3: 122 ns per loop\n"
     ]
    }
   ],
   "source": [
    "%timeit ft_tan(150.0)"
   ]
  },
  {
   "cell_type": "code",
   "execution_count": 32,
   "metadata": {},
   "outputs": [],
   "source": [
    "%%cython\n",
    "from libc.math cimport tan\n",
    "\n",
    "cpdef double cy_tan(double x):\n",
    "    return tan(x)"
   ]
  },
  {
   "cell_type": "code",
   "execution_count": 33,
   "metadata": {},
   "outputs": [
    {
     "name": "stdout",
     "output_type": "stream",
     "text": [
      "The slowest run took 22.00 times longer than the fastest. This could mean that an intermediate result is being cached.\n",
      "10000000 loops, best of 3: 68.3 ns per loop\n"
     ]
    }
   ],
   "source": [
    "%timeit cy_tan(150.0)"
   ]
  },
  {
   "cell_type": "code",
   "execution_count": 34,
   "metadata": {
    "collapsed": true
   },
   "outputs": [],
   "source": [
    "%%fortran\n",
    "subroutine ft_flow_calc(a, b, prev_quick, prev_slow, u, r, area, loss, pscale, quick, slow, flow, a2, b2, tmp_slow, tmp_flow)\n",
    "    real*8, intent(in) :: a, b, prev_quick, prev_slow, u, r, area, loss, pscale\n",
    "    real*8, intent(out) :: quick, slow, flow\n",
    "    real*8, intent(out) :: a2, b2, tmp_flow, tmp_slow\n",
    "    \n",
    "    a2=0.5d0\n",
    "    if ((prev_quick+u*area-0.5*loss).gt.0) then\n",
    "        quick=1/(1+a)*(prev_quick+u*area-loss/2.0d0)\n",
    "        flow=a*quick\n",
    "\n",
    "    else\n",
    "        if(loss.eq.0.0d0) then\n",
    "            a2=0.0d0\n",
    "        else\n",
    "            a2=(prev_quick+u*area)/loss\n",
    "            if(a2.gt.1) then\n",
    "                a2=1.0d0\n",
    "            endif\n",
    "            if(a2.lt.0) then\n",
    "                a2=0.0d0\n",
    "            endif\n",
    "        endif\n",
    "\n",
    "        quick=prev_quick+u*area-a2*loss\n",
    "        flow=0.0d0\n",
    "    endif\n",
    "    \n",
    "    tmp_flow = flow\n",
    "\n",
    "    b2=1.0d0-a2\n",
    "    tmp_slow = (prev_slow+pscale*r*area-loss*b2)\n",
    "    if ((prev_slow+r*area-b2*loss).gt.0) then\n",
    "        slow=1/(1+b)*(prev_slow+pscale*r*area-loss*b2)\n",
    "        flow=flow+b*slow\n",
    "    else\n",
    "        slow=slow+pscale*r*area-b2*loss\n",
    "    endif\n",
    "\n",
    "end subroutine"
   ]
  },
  {
   "cell_type": "code",
   "execution_count": 35,
   "metadata": {
    "collapsed": true
   },
   "outputs": [],
   "source": [
    "# a, b, prev_quick, prev_slow, u, r, area, loss, pscale\n",
    "a = 54.0\n",
    "b = 0.18\n",
    "prev_quick = 24.0\n",
    "prev_slow = 500.0\n",
    "u = 0.1\n",
    "r = 0.01\n",
    "area = 1900\n",
    "loss = 0.0\n",
    "pscale = 0.0"
   ]
  },
  {
   "cell_type": "code",
   "execution_count": 36,
   "metadata": {
    "collapsed": true
   },
   "outputs": [],
   "source": [
    "def calc_ft_flows(prev_quick, prev_slow, e_rain, recharge, area, a, b, loss=0.0, pscale=0.0):\n",
    "    \"\"\"\n",
    "\n",
    "    :param prev_quick: float, previous quickflow storage\n",
    "    :param prev_slow: float, previous slowflow storage\n",
    "    :param e_rain: float, effective rainfall in mm\n",
    "    :param recharge: float, recharge amount in mm\n",
    "    :param area: float, catchment area in km^2\n",
    "    :param a: float, `a` factor controlling quickflow rate\n",
    "    :param b: float, `b` factor controlling slowflow rate\n",
    "    :param loss: float, losses in mm depth\n",
    "\n",
    "    :returns: tuple[float], quick store, slow store, outflow\n",
    "    \"\"\"\n",
    "    a2 = 0.5\n",
    "    if (prev_quick + e_rain * area - 0.5 * loss) > 0.0:\n",
    "        quick_store = 1.0 / (1.0 + a) * (prev_quick + e_rain * area - loss / 2.0)\n",
    "        outflow = a * quick_store\n",
    "    else:\n",
    "        a2 = 0.0 if loss == 0.0 else max(0.0, min(1.0, prev_quick + e_rain * area / loss))\n",
    "        quick_store = prev_quick + e_rain * area - a2 * loss\n",
    "        outflow = 0.0\n",
    "    # End if\n",
    "    \n",
    "    tmp_flow = outflow\n",
    "\n",
    "    b2 = 1.0 - a2\n",
    "    tmp_slow = (prev_slow+r*area-loss*b2)\n",
    "    slow_store = prev_slow + recharge * area - loss * b2  # b2 * loss\n",
    "    if (prev_slow + recharge * area - b2 * loss) > 0.0:\n",
    "        slow_store = 1.0 / (1.0 + b) * slow_store\n",
    "        outflow = outflow + b * slow_store\n",
    "    # End if\n",
    "\n",
    "    return quick_store, slow_store, outflow, a2, b2, tmp_slow, tmp_flow\n",
    "# End calc_ft_flows()"
   ]
  },
  {
   "cell_type": "code",
   "execution_count": 37,
   "metadata": {},
   "outputs": [
    {
     "data": {
      "text/plain": [
       "(3.8909090909090907,\n",
       " 439.83050847457633,\n",
       " 289.27858243451465,\n",
       " 0.5,\n",
       " 0.5,\n",
       " 519.0,\n",
       " 210.1090909090909)"
      ]
     },
     "execution_count": 37,
     "metadata": {},
     "output_type": "execute_result"
    }
   ],
   "source": [
    "ft_flow_calc(a, b, prev_quick, prev_slow, u, r, area, loss, pscale=1.0)  # , 0.0, 0.0"
   ]
  },
  {
   "cell_type": "code",
   "execution_count": 38,
   "metadata": {},
   "outputs": [
    {
     "data": {
      "text/plain": [
       "(3.8909090909090907,\n",
       " 439.83050847457633,\n",
       " 289.27858243451465,\n",
       " 0.5,\n",
       " 0.5,\n",
       " 519.0,\n",
       " 210.1090909090909)"
      ]
     },
     "execution_count": 38,
     "metadata": {},
     "output_type": "execute_result"
    }
   ],
   "source": [
    "calc_ft_flows(prev_quick, prev_slow, u, r, area, a, b, loss)"
   ]
  },
  {
   "cell_type": "code",
   "execution_count": 39,
   "metadata": {},
   "outputs": [
    {
     "data": {
      "text/plain": [
       "519.0"
      ]
     },
     "execution_count": 39,
     "metadata": {},
     "output_type": "execute_result"
    }
   ],
   "source": [
    "slow_store = prev_slow + r * area - loss * 0.5\n",
    "slow_store"
   ]
  },
  {
   "cell_type": "code",
   "execution_count": 40,
   "metadata": {
    "collapsed": true
   },
   "outputs": [],
   "source": [
    "from math import exp\n",
    "def calc_ft_interim(cmd, rain, d, d2, alpha):\n",
    "    \"\"\"Direct port of original Fortran implementation to calculate interim CMD.\n",
    "\n",
    "    :param cmd: float, Catchment Moisture Deficit\n",
    "    :param rain: float, rainfall for time step in mm\n",
    "    :param d: float, flow threshold value\n",
    "    :param d2: float, scaling factor applied to `d`\n",
    "    :param alpha: float, took value from IHACRESparams.csv file for 406219 for dev purposes only\n",
    "\n",
    "    :returns: tuple[float], interim CMD value, effective rainfall, recharge (all in mm)\n",
    "    \"\"\"\n",
    "    d2 = d * d2\n",
    "\n",
    "    tmp_cmd = cmd\n",
    "    e_rain = 0.0\n",
    "    recharge = 0.0\n",
    "    if rain == 0.0:\n",
    "        return cmd, e_rain, recharge\n",
    "    # End if\n",
    "\n",
    "    if tmp_cmd > (d2 + rain):\n",
    "        # CMD never reaches d2, so all rain is effective\n",
    "        cmd = tmp_cmd - rain\n",
    "    else:\n",
    "        if tmp_cmd > d2:\n",
    "            tmp_rain = rain - (tmp_cmd - d2)  # leftover rain after reaching d2 threshold\n",
    "            tmp_cmd = d2\n",
    "        else:\n",
    "            tmp_rain = rain\n",
    "        # End if\n",
    "\n",
    "        d1a = d * (2.0 - exp(-(rain / 50.0)**2))\n",
    "        if tmp_cmd > d1a:\n",
    "            eps = d2 / (1.0 - alpha)\n",
    "\n",
    "            # original comment: now get rainfall to reach cmd = d1a\n",
    "            # amount of rain necessary to get to threshold `d`\n",
    "            depth_to_d = eps * log((alpha + tmp_cmd / eps) / (alpha + d1a / eps))\n",
    "            if depth_to_d > tmp_rain:\n",
    "                lam = exp(tmp_rain * (1.0 - alpha) / d2)\n",
    "                epsilon = alpha * eps\n",
    "\n",
    "                cmd = tmp_cmd / lam - epsilon * (1.0 - 1.0 / lam)\n",
    "                e_rain = 0.0\n",
    "            else:\n",
    "                if (tmp_cmd > d1a):\n",
    "                    tmp_rain = tmp_rain - depth_to_d\n",
    "\n",
    "                tmp_cmd = d1a\n",
    "                gamma = (alpha * d2 + (1.0 - alpha) * d1a) / (d1a * d2)\n",
    "                cmd = tmp_cmd * exp(-tmp_rain * gamma)\n",
    "                e_rain = alpha * (tmp_rain + 1.0 / d1a / gamma * (cmd - tmp_cmd))\n",
    "            # End if\n",
    "        else:\n",
    "            gamma = (alpha * d2 + (1.0 - alpha) * d1a) / (d1a * d2)\n",
    "            cmd = tmp_cmd * exp(-tmp_rain * gamma)\n",
    "            e_rain = alpha * (tmp_rain + 1.0 / d1a / gamma * (cmd - tmp_cmd))\n",
    "        # End if\n",
    "\n",
    "        recharge = rain - (tmp_cmd - cmd) - e_rain\n",
    "    # End if\n",
    "\n",
    "    return cmd, e_rain, recharge\n",
    "# End calc_ft_interim()"
   ]
  },
  {
   "cell_type": "code",
   "execution_count": 41,
   "metadata": {},
   "outputs": [
    {
     "name": "stdout",
     "output_type": "stream",
     "text": [
      "Running...\n",
      "   C:\\userdata\\takuyai\\Miniconda3\\envs\\cimdev\\python.exe -m numpy.f2py -m _fortran_magic_068b2a456e820b17930d25a7b301aaa8 -c C:\\Users\\takuyai\\.ipython\\fortran\\_fortran_magic_068b2a456e820b17930d25a7b301aaa8.f90\n",
      "running build\n",
      "running config_cc\n",
      "unifing config_cc, config, build_clib, build_ext, build commands --compiler options\n",
      "running config_fc\n",
      "unifing config_fc, config, build_clib, build_ext, build commands --fcompiler options\n",
      "running build_src\n",
      "build_src\n",
      "building extension \"_fortran_magic_068b2a456e820b17930d25a7b301aaa8\" sources\n",
      "f2py options: []\n",
      "f2py:> c:\\users\\takuyai\\appdata\\local\\temp\\tmpziwkgg\\src.win-amd64-2.7\\_fortran_magic_068b2a456e820b17930d25a7b301aaa8module.c\n",
      "creating c:\\users\\takuyai\\appdata\\local\\temp\\tmpziwkgg\\src.win-amd64-2.7\n",
      "Reading fortran codes...\n",
      "\tReading file 'C:\\\\Users\\\\takuyai\\\\.ipython\\\\fortran\\\\_fortran_magic_068b2a456e820b17930d25a7b301aaa8.f90' (format:free)\n",
      "Post-processing...\n",
      "\tBlock: _fortran_magic_068b2a456e820b17930d25a7b301aaa8\n",
      "{}\n",
      "In: :_fortran_magic_068b2a456e820b17930d25a7b301aaa8:C:\\Users\\takuyai\\.ipython\\fortran\\_fortran_magic_068b2a456e820b17930d25a7b301aaa8.f90:ft_interim_cmd\n",
      "vars2fortran: No typespec for argument \"d1\".\n",
      "{}\n",
      "In: :_fortran_magic_068b2a456e820b17930d25a7b301aaa8:C:\\Users\\takuyai\\.ipython\\fortran\\_fortran_magic_068b2a456e820b17930d25a7b301aaa8.f90:ft_interim_cmd\n",
      "vars2fortran: No typespec for argument \"d2\".\n",
      "{}\n",
      "In: :_fortran_magic_068b2a456e820b17930d25a7b301aaa8:C:\\Users\\takuyai\\.ipython\\fortran\\_fortran_magic_068b2a456e820b17930d25a7b301aaa8.f90:ft_interim_cmd\n",
      "vars2fortran: No typespec for argument \"cmd_old\".\n",
      "{}\n",
      "In: :_fortran_magic_068b2a456e820b17930d25a7b301aaa8:C:\\Users\\takuyai\\.ipython\\fortran\\_fortran_magic_068b2a456e820b17930d25a7b301aaa8.f90:ft_interim_cmd\n",
      "vars2fortran: No typespec for argument \"rain\".\n",
      "{}\n",
      "In: :_fortran_magic_068b2a456e820b17930d25a7b301aaa8:C:\\Users\\takuyai\\.ipython\\fortran\\_fortran_magic_068b2a456e820b17930d25a7b301aaa8.f90:ft_interim_cmd\n",
      "vars2fortran: No typespec for argument \"alpha\".\n",
      "\t\t\tBlock: ft_interim_cmd\n",
      "Post-processing (stage 2)...\n",
      "Building modules...\n",
      "\tBuilding module \"_fortran_magic_068b2a456e820b17930d25a7b301aaa8\"...\n",
      "\t\tConstructing wrapper function \"ft_interim_cmd\"...\n",
      "\t\t  cmd,u,r = ft_interim_cmd(d1,d2,cmd_old,rain,alpha)\n",
      "\tWrote C/API module \"_fortran_magic_068b2a456e820b17930d25a7b301aaa8\" to file \"c:\\users\\takuyai\\appdata\\local\\temp\\tmpziwkgg\\src.win-amd64-2.7\\_fortran_magic_068b2a456e820b17930d25a7b301aaa8module.c\"\n",
      "  adding 'c:\\users\\takuyai\\appdata\\local\\temp\\tmpziwkgg\\src.win-amd64-2.7\\fortranobject.c' to sources.\n",
      "  adding 'c:\\users\\takuyai\\appdata\\local\\temp\\tmpziwkgg\\src.win-amd64-2.7' to include_dirs.\n",
      "copying C:\\userdata\\takuyai\\Miniconda3\\envs\\cimdev\\lib\\site-packages\\numpy\\f2py\\src\\fortranobject.c -> c:\\users\\takuyai\\appdata\\local\\temp\\tmpziwkgg\\src.win-amd64-2.7\n",
      "copying C:\\userdata\\takuyai\\Miniconda3\\envs\\cimdev\\lib\\site-packages\\numpy\\f2py\\src\\fortranobject.h -> c:\\users\\takuyai\\appdata\\local\\temp\\tmpziwkgg\\src.win-amd64-2.7\n",
      "build_src: building npy-pkg config files\n",
      "running build_ext\n",
      "customize MSVCCompiler\n",
      "customize MSVCCompiler using build_ext\n",
      "customize GnuFCompiler\n",
      "Could not locate executable g77\n",
      "Could not locate executable f77\n",
      "customize IntelVisualFCompiler\n",
      "Could not locate executable ifort\n",
      "Could not locate executable ifl\n",
      "customize AbsoftFCompiler\n",
      "Could not locate executable f90\n",
      "customize CompaqVisualFCompiler\n",
      "Could not locate executable DF\n",
      "customize IntelItaniumVisualFCompiler\n",
      "Could not locate executable efl\n",
      "customize Gnu95FCompiler\n",
      "Found executable C:\\UserData\\takuyai\\Miniconda3\\envs\\cimdev\\Scripts\\gfortran.bat\n",
      "customize Gnu95FCompiler\n",
      "customize Gnu95FCompiler using build_ext\n",
      "building '_fortran_magic_068b2a456e820b17930d25a7b301aaa8' extension\n",
      "compiling C sources\n",
      "creating c:\\users\\takuyai\\appdata\\local\\temp\\tmpziwkgg\\Release\n",
      "creating c:\\users\\takuyai\\appdata\\local\\temp\\tmpziwkgg\\Release\\users\n",
      "creating c:\\users\\takuyai\\appdata\\local\\temp\\tmpziwkgg\\Release\\users\\takuyai\n",
      "creating c:\\users\\takuyai\\appdata\\local\\temp\\tmpziwkgg\\Release\\users\\takuyai\\appdata\n",
      "creating c:\\users\\takuyai\\appdata\\local\\temp\\tmpziwkgg\\Release\\users\\takuyai\\appdata\\local\n",
      "creating c:\\users\\takuyai\\appdata\\local\\temp\\tmpziwkgg\\Release\\users\\takuyai\\appdata\\local\\temp\n",
      "creating c:\\users\\takuyai\\appdata\\local\\temp\\tmpziwkgg\\Release\\users\\takuyai\\appdata\\local\\temp\\tmpziwkgg\n",
      "creating c:\\users\\takuyai\\appdata\\local\\temp\\tmpziwkgg\\Release\\users\\takuyai\\appdata\\local\\temp\\tmpziwkgg\\src.win-amd64-2.7\n",
      "C:\\Users\\takuyai\\AppData\\Local\\Programs\\Common\\Microsoft\\Visual C++ for Python\\9.0\\VC\\Bin\\amd64\\cl.exe /c /nologo /Ox /MD /W3 /GS- /DNDEBUG -Ic:\\users\\takuyai\\appdata\\local\\temp\\tmpziwkgg\\src.win-amd64-2.7 -IC:\\userdata\\takuyai\\Miniconda3\\envs\\cimdev\\lib\\site-packages\\numpy\\core\\include -IC:\\userdata\\takuyai\\Miniconda3\\envs\\cimdev\\include -IC:\\userdata\\takuyai\\Miniconda3\\envs\\cimdev\\PC /Tcc:\\users\\takuyai\\appdata\\local\\temp\\tmpziwkgg\\src.win-amd64-2.7\\_fortran_magic_068b2a456e820b17930d25a7b301aaa8module.c /Foc:\\users\\takuyai\\appdata\\local\\temp\\tmpziwkgg\\Release\\users\\takuyai\\appdata\\local\\temp\\tmpziwkgg\\src.win-amd64-2.7\\_fortran_magic_068b2a456e820b17930d25a7b301aaa8module.obj\n",
      "C:\\Users\\takuyai\\AppData\\Local\\Programs\\Common\\Microsoft\\Visual C++ for Python\\9.0\\VC\\Bin\\amd64\\cl.exe /c /nologo /Ox /MD /W3 /GS- /DNDEBUG -Ic:\\users\\takuyai\\appdata\\local\\temp\\tmpziwkgg\\src.win-amd64-2.7 -IC:\\userdata\\takuyai\\Miniconda3\\envs\\cimdev\\lib\\site-packages\\numpy\\core\\include -IC:\\userdata\\takuyai\\Miniconda3\\envs\\cimdev\\include -IC:\\userdata\\takuyai\\Miniconda3\\envs\\cimdev\\PC /Tcc:\\users\\takuyai\\appdata\\local\\temp\\tmpziwkgg\\src.win-amd64-2.7\\fortranobject.c /Foc:\\users\\takuyai\\appdata\\local\\temp\\tmpziwkgg\\Release\\users\\takuyai\\appdata\\local\\temp\\tmpziwkgg\\src.win-amd64-2.7\\fortranobject.obj\n",
      "compiling Fortran sources\n",
      "Fortran f77 compiler: C:\\UserData\\takuyai\\Miniconda3\\envs\\cimdev\\Scripts\\gfortran.bat -Wall -g -ffixed-form -fno-second-underscore -O0\n",
      "Fortran f90 compiler: C:\\UserData\\takuyai\\Miniconda3\\envs\\cimdev\\Scripts\\gfortran.bat -Wall -g -fno-second-underscore -O0\n",
      "Fortran fix compiler: C:\\UserData\\takuyai\\Miniconda3\\envs\\cimdev\\Scripts\\gfortran.bat -Wall -g -ffixed-form -fno-second-underscore -Wall -g -fno-second-underscore -O0\n",
      "creating c:\\users\\takuyai\\appdata\\local\\temp\\tmpziwkgg\\Release\\Users\\takuyai\\.ipython\n",
      "creating c:\\users\\takuyai\\appdata\\local\\temp\\tmpziwkgg\\Release\\Users\\takuyai\\.ipython\\fortran\n",
      "compile options: '-Ic:\\users\\takuyai\\appdata\\local\\temp\\tmpziwkgg\\src.win-amd64-2.7 -IC:\\userdata\\takuyai\\Miniconda3\\envs\\cimdev\\lib\\site-packages\\numpy\\core\\include -IC:\\userdata\\takuyai\\Miniconda3\\envs\\cimdev\\include -IC:\\userdata\\takuyai\\Miniconda3\\envs\\cimdev\\PC -c'\n",
      "gfortran.bat:f90: C:\\Users\\takuyai\\.ipython\\fortran\\_fortran_magic_068b2a456e820b17930d25a7b301aaa8.f90\n",
      "C:\\Users\\takuyai\\AppData\\Local\\Programs\\Common\\Microsoft\\Visual C++ for Python\\9.0\\VC\\Bin\\amd64\\link.exe /DLL /nologo /INCREMENTAL:NO /LIBPATH:c:\\userdata\\takuyai\\miniconda3\\envs\\cimdev\\mingw\\lib\\gcc\\x86_64-w64-mingw32\\4.7.0 /LIBPATH:C:\\userdata\\takuyai\\Miniconda3\\envs\\cimdev\\libs /LIBPATH:C:\\userdata\\takuyai\\Miniconda3\\envs\\cimdev\\PCbuild\\amd64 /LIBPATH:C:\\userdata\\takuyai\\Miniconda3\\envs\\cimdev\\PC\\VS9.0\\amd64 /LIBPATH:C:\\userdata\\takuyai\\Miniconda3\\envs\\cimdev\\libs /LIBPATH:C:\\userdata\\takuyai\\Miniconda3\\envs\\cimdev\\PCbuild\\amd64 /LIBPATH:C:\\userdata\\takuyai\\Miniconda3\\envs\\cimdev\\PC\\VS9.0\\amd64 /EXPORT:init_fortran_magic_068b2a456e820b17930d25a7b301aaa8 c:\\users\\takuyai\\appdata\\local\\temp\\tmpziwkgg\\Release\\users\\takuyai\\appdata\\local\\temp\\tmpziwkgg\\src.win-amd64-2.7\\_fortran_magic_068b2a456e820b17930d25a7b301aaa8module.obj c:\\users\\takuyai\\appdata\\local\\temp\\tmpziwkgg\\Release\\users\\takuyai\\appdata\\local\\temp\\tmpziwkgg\\src.win-amd64-2.7\\fortranobject.obj c:\\users\\takuyai\\appdata\\local\\temp\\tmpziwkgg\\Release\\Users\\takuyai\\.ipython\\fortran\\_fortran_magic_068b2a456e820b17930d25a7b301aaa8.o /OUT:.\\_fortran_magic_068b2a456e820b17930d25a7b301aaa8.pyd /IMPLIB:c:\\users\\takuyai\\appdata\\local\\temp\\tmpziwkgg\\Release\\users\\takuyai\\appdata\\local\\temp\\tmpziwkgg\\src.win-amd64-2.7\\_fortran_magic_068b2a456e820b17930d25a7b301aaa8.lib /MANIFESTFILE:c:\\users\\takuyai\\appdata\\local\\temp\\tmpziwkgg\\Release\\users\\takuyai\\appdata\\local\\temp\\tmpziwkgg\\src.win-amd64-2.7\\_fortran_magic_068b2a456e820b17930d25a7b301aaa8.pyd.manifest\n",
      "Removing build directory c:\\users\\takuyai\\appdata\\local\\temp\\tmpziwkgg\n"
     ]
    },
    {
     "name": "stdout",
     "output_type": "stream",
     "text": [
      "\n",
      "Ok. The following fortran objects are ready to use: ft_interim_cmd\n"
     ]
    }
   ],
   "source": [
    "%%fortran\n",
    "subroutine ft_interim_cmd(d1, d2, CMD_old, rain, alpha, cmd, u, r)\n",
    "    ! local\n",
    "    real*8 d1a, cmd2, epsilonn, rain3, gamma\n",
    "    \n",
    "    ! output\n",
    "    real*8, intent(out) :: cmd, u, r\n",
    "    \n",
    "    \n",
    "    d1a=d1*(2.0d0-exp(-(rain/50.0d0)**2))\n",
    "    cmd2 = CMD_old\n",
    "    if (rain.eq.0) then\n",
    "        u=0.0d0\n",
    "        r=0.0d0\n",
    "        cmd=cmd2\n",
    "    else\n",
    "        if (cmd2.gt.d2+rain) then\n",
    "            cmd = cmd2-rain\n",
    "            u = 0.0\n",
    "            r = 0.0\n",
    "        else\n",
    "            if (cmd2.gt.d2) then\n",
    "                rain2 = rain-(cmd2-d2)\n",
    "                cmd2 = d2\n",
    "            else\n",
    "                rain2 = rain\n",
    "            endif\n",
    "            \n",
    "            if (cmd2.gt.d1a) then\n",
    "                epsilonn = d2/(1.0-alpha)\n",
    "                rain3=epsilonn*log((alpha+cmd2/epsilonn)/(alpha+d1a/epsilonn))\n",
    "                if (rain3.ge.rain2) then\n",
    "                    lamda = exp(rain2*(1.0-alpha)/d2)\n",
    "                    epsilon = alpha*epsilonn\n",
    "                    cmd = cmd2/lamda-epsilon*(1.0-1.0/lamda)\n",
    "                    u = 0.0\n",
    "                else\n",
    "                    if (cmd2.gt.d1a) then\n",
    "                        rain2 = rain2-rain3\n",
    "                    endif\n",
    "                    cmd2 = d1a\n",
    "                    gamma = (alpha*d2+(1-alpha)*d1a)/(d1a*d2)\n",
    "                    cmd = cmd2*exp(-rain2*gamma)\n",
    "                    u = alpha*(rain2+1.0/d1a/gamma*(cmd-cmd2))\n",
    "                endif\n",
    "            else\n",
    "                gamma = (alpha*d2+(1-alpha)*d1a)/(d1a*d2)\n",
    "                cmd = cmd2*exp(-rain2*gamma)\n",
    "                u = alpha*(rain2+1.0/d1a/gamma*(cmd-cmd2))\n",
    "            endif\n",
    "            r = rain-(CMD_old-cmd)-u\n",
    "        endif\n",
    "    endif\n",
    "    \n",
    "    ! if (cmd.gt.f) then\n",
    "    !     et = e*evap*exp( (1-cmd/f)*2)\n",
    "    ! else\n",
    "    !     et = e*evap\n",
    "    ! endif\n",
    "end subroutine"
   ]
  },
  {
   "cell_type": "code",
   "execution_count": 65,
   "metadata": {
    "collapsed": true
   },
   "outputs": [],
   "source": [
    "cmd = 100.0\n",
    "d = 150.0\n",
    "d2 = 2.0\n",
    "e = 1.0\n",
    "f = 0.8\n",
    "rain = 6.0\n",
    "evap = 3.0"
   ]
  },
  {
   "cell_type": "code",
   "execution_count": 66,
   "metadata": {},
   "outputs": [
    {
     "data": {
      "text/plain": [
       "(96.6445752611055, 1.5433629240991225, 1.1012123370063789)"
      ]
     },
     "execution_count": 66,
     "metadata": {},
     "output_type": "execute_result"
    }
   ],
   "source": [
    "ft_interim_cmd(d1=d, d2=d*d2, cmd_old=cmd, alpha=0.727, rain=rain)"
   ]
  },
  {
   "cell_type": "code",
   "execution_count": 67,
   "metadata": {},
   "outputs": [],
   "source": [
    "# Python implementation\n",
    "# cmd, rain, d, d2, alpha\n",
    "py_mf, py_u, py_r = calc_ft_interim(cmd=cmd, rain=rain, d=d, d2=d2, alpha=0.727)"
   ]
  },
  {
   "cell_type": "code",
   "execution_count": 68,
   "metadata": {
    "collapsed": true
   },
   "outputs": [],
   "source": [
    "from pyIHACRES import ihacres_funcs as ifuncs"
   ]
  },
  {
   "cell_type": "code",
   "execution_count": 69,
   "metadata": {},
   "outputs": [
    {
     "data": {
      "text/plain": [
       "3.0"
      ]
     },
     "execution_count": 69,
     "metadata": {},
     "output_type": "execute_result"
    }
   ],
   "source": [
    "ifuncs.calc_ET(e, evap, py_mf, f, d)"
   ]
  },
  {
   "cell_type": "code",
   "execution_count": 70,
   "metadata": {},
   "outputs": [
    {
     "data": {
      "text/plain": [
       "3.0"
      ]
     },
     "execution_count": 70,
     "metadata": {},
     "output_type": "execute_result"
    }
   ],
   "source": [
    "if cmd > (d * d2):\n",
    "    et = e * evap * exp( (1 - py_mf / (d * d2))*2.0)\n",
    "else:\n",
    "    et = e * evap\n",
    "    \n",
    "et"
   ]
  },
  {
   "cell_type": "code",
   "execution_count": 71,
   "metadata": {},
   "outputs": [
    {
     "data": {
      "text/plain": [
       "99.64457534233316"
      ]
     },
     "execution_count": 71,
     "metadata": {},
     "output_type": "execute_result"
    }
   ],
   "source": [
    "ifuncs.calc_cmd(cmd, rain, et, py_u, py_r)"
   ]
  },
  {
   "cell_type": "code",
   "execution_count": 73,
   "metadata": {},
   "outputs": [
    {
     "data": {
      "text/plain": [
       "99.64457534233316"
      ]
     },
     "execution_count": 73,
     "metadata": {},
     "output_type": "execute_result"
    }
   ],
   "source": [
    "cmd = 100.0 + et + py_u + py_r - rain\n",
    "cmd"
   ]
  },
  {
   "cell_type": "code",
   "execution_count": null,
   "metadata": {
    "collapsed": true
   },
   "outputs": [],
   "source": []
  }
 ],
 "metadata": {
  "kernelspec": {
   "display_name": "Python [conda env:cimdev]",
   "language": "python",
   "name": "conda-env-cimdev-py"
  },
  "language_info": {
   "codemirror_mode": {
    "name": "ipython",
    "version": 2
   },
   "file_extension": ".py",
   "mimetype": "text/x-python",
   "name": "python",
   "nbconvert_exporter": "python",
   "pygments_lexer": "ipython2",
   "version": "2.7.13"
  }
 },
 "nbformat": 4,
 "nbformat_minor": 2
}
